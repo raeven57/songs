{
  "nbformat": 4,
  "nbformat_minor": 0,
  "metadata": {
    "colab": {
      "provenance": [],
      "authorship_tag": "ABX9TyPcLvqdF6E/f12D9l0RTRaD",
      "include_colab_link": true
    },
    "kernelspec": {
      "name": "python3",
      "display_name": "Python 3"
    },
    "language_info": {
      "name": "python"
    }
  },
  "cells": [
    {
      "cell_type": "markdown",
      "metadata": {
        "id": "view-in-github",
        "colab_type": "text"
      },
      "source": [
        "<a href=\"https://colab.research.google.com/github/raeven57/songs/blob/main/Music_Recommendation_content_based.ipynb\" target=\"_parent\"><img src=\"https://colab.research.google.com/assets/colab-badge.svg\" alt=\"Open In Colab\"/></a>"
      ]
    },
    {
      "cell_type": "code",
      "execution_count": 1,
      "metadata": {
        "id": "q3vGuNdty1rj"
      },
      "outputs": [],
      "source": [
        "import pandas as pd\n",
        "from sklearn.preprocessing import MultiLabelBinarizer\n",
        "from sklearn.metrics.pairwise import cosine_similarity\n",
        "from IPython.display import Image, display"
      ]
    },
    {
      "cell_type": "code",
      "source": [
        "csv_file_path = 'spotify_songs_of_different_genres.csv'\n",
        "df = pd.read_csv(csv_file_path)\n",
        "\n",
        "df['genres'] = df['genres'].apply(lambda x: x.split(', '))\n",
        "\n",
        "mlb = MultiLabelBinarizer()\n",
        "genre_matrix = mlb.fit_transform(df['genres'])\n",
        "\n",
        "genre_df = pd.DataFrame(genre_matrix, columns=mlb.classes_, index=df['track_id'])\n",
        "\n",
        "cosine_sim = cosine_similarity(genre_df, genre_df)\n",
        "\n",
        "cosine_sim_df = pd.DataFrame(cosine_sim, index=genre_df.index, columns=genre_df.index)\n",
        "\n",
        "def recommend_songs(track_id, cosine_sim_df, df, num_recommendations=10):\n",
        "\n",
        "    idx = df.index[df['track_id'] == track_id].tolist()[0]\n",
        "\n",
        "    sim_scores = list(enumerate(cosine_sim_df.iloc[idx]))\n",
        "\n",
        "    sim_scores = sorted(sim_scores, key=lambda x: x[1], reverse=True)\n",
        "\n",
        "    sim_scores = sim_scores[1:num_recommendations+1]\n",
        "\n",
        "    song_indices = [i[0] for i in sim_scores]\n",
        "\n",
        "    recommended_songs = df.iloc[song_indices][['track_id', 'track_name', 'artist_name', 'genres', 'album_cover_image']]\n",
        "\n",
        "    for _, row in recommended_songs.iterrows():\n",
        "        print(f\"Track ID: {row['track_id']}\")\n",
        "        print(f\"Track Name: {row['track_name']}\")\n",
        "        print(f\"Artist Name: {row['artist_name']}\")\n",
        "        print(f\"Genres: {', '.join(row['genres'])}\")\n",
        "        print(f\"Album Cover Image: {row['album_cover_image']}\")\n",
        "        display_album_cover(row['album_cover_image'])\n",
        "        print(\"\\n\")\n",
        "\n",
        "    return recommended_songs\n",
        "\n",
        "# Function to display album cover images\n",
        "def display_album_cover(url):\n",
        "    try:\n",
        "        display(Image(url=url, width=150, height=150))\n",
        "    except ImportError:\n",
        "        print(f\"Album Cover: {url}\")\n",
        "\n",
        "track_id_example = '0i5QVxsK3IvEDbUjTA64Li'\n",
        "recommended_songs = recommend_songs(track_id_example, cosine_sim_df, df)"
      ],
      "metadata": {
        "colab": {
          "base_uri": "https://localhost:8080/",
          "height": 1000
        },
        "id": "_ZQYu_dRzC0Q",
        "outputId": "2de8ae8b-7e4b-4c4d-80fd-1ccef8ee1c09"
      },
      "execution_count": 4,
      "outputs": [
        {
          "output_type": "stream",
          "name": "stdout",
          "text": [
            "Track ID: 2mKz0wGscPw1xnTvrTlQUi\n",
            "Track Name: Orange Blood\n",
            "Artist Name: Mt. Joy\n",
            "Genres: pov: indie, stomp and holler\n",
            "Album Cover Image: https://i.scdn.co/image/ab67616d0000b273538afc814477092a0781be50\n"
          ]
        },
        {
          "output_type": "display_data",
          "data": {
            "text/html": [
              "<img src=\"https://i.scdn.co/image/ab67616d0000b273538afc814477092a0781be50\" width=\"150\" height=\"150\"/>"
            ],
            "text/plain": [
              "<IPython.core.display.Image object>"
            ]
          },
          "metadata": {}
        },
        {
          "output_type": "stream",
          "name": "stdout",
          "text": [
            "\n",
            "\n",
            "Track ID: 2fpDrL2Vpee0JnM6AoUFvl\n",
            "Track Name: Silver Lining\n",
            "Artist Name: Mt. Joy\n",
            "Genres: pov: indie, stomp and holler\n",
            "Album Cover Image: https://i.scdn.co/image/ab67616d0000b273f40e5c4f60e287cd1ca6f3c8\n"
          ]
        },
        {
          "output_type": "display_data",
          "data": {
            "text/html": [
              "<img src=\"https://i.scdn.co/image/ab67616d0000b273f40e5c4f60e287cd1ca6f3c8\" width=\"150\" height=\"150\"/>"
            ],
            "text/plain": [
              "<IPython.core.display.Image object>"
            ]
          },
          "metadata": {}
        },
        {
          "output_type": "stream",
          "name": "stdout",
          "text": [
            "\n",
            "\n",
            "Track ID: 0SnCZci0wyVj0RZXknNaWq\n",
            "Track Name: Lemon Tree\n",
            "Artist Name: Mt. Joy\n",
            "Genres: pov: indie, stomp and holler\n",
            "Album Cover Image: https://i.scdn.co/image/ab67616d0000b2739f9fc9a902efb92818af8fdd\n"
          ]
        },
        {
          "output_type": "display_data",
          "data": {
            "text/html": [
              "<img src=\"https://i.scdn.co/image/ab67616d0000b2739f9fc9a902efb92818af8fdd\" width=\"150\" height=\"150\"/>"
            ],
            "text/plain": [
              "<IPython.core.display.Image object>"
            ]
          },
          "metadata": {}
        },
        {
          "output_type": "stream",
          "name": "stdout",
          "text": [
            "\n",
            "\n",
            "Track ID: 6eLUwUJbXC9E94RuP5Qg4Y\n",
            "Track Name: Don't Let It Bring You Down - Recorded at Spotify Studios NYC\n",
            "Artist Name: Mt. Joy\n",
            "Genres: pov: indie, stomp and holler\n",
            "Album Cover Image: https://i.scdn.co/image/ab67616d0000b273f361b162009bad99d85db417\n"
          ]
        },
        {
          "output_type": "display_data",
          "data": {
            "text/html": [
              "<img src=\"https://i.scdn.co/image/ab67616d0000b273f361b162009bad99d85db417\" width=\"150\" height=\"150\"/>"
            ],
            "text/plain": [
              "<IPython.core.display.Image object>"
            ]
          },
          "metadata": {}
        },
        {
          "output_type": "stream",
          "name": "stdout",
          "text": [
            "\n",
            "\n",
            "Track ID: 3E7z1rLE9rR2rhTW3TeXGo\n",
            "Track Name: Highway Queen\n",
            "Artist Name: Mt. Joy\n",
            "Genres: pov: indie, stomp and holler\n",
            "Album Cover Image: https://i.scdn.co/image/ab67616d0000b2735abe308e64e9713d45fc2658\n"
          ]
        },
        {
          "output_type": "display_data",
          "data": {
            "text/html": [
              "<img src=\"https://i.scdn.co/image/ab67616d0000b2735abe308e64e9713d45fc2658\" width=\"150\" height=\"150\"/>"
            ],
            "text/plain": [
              "<IPython.core.display.Image object>"
            ]
          },
          "metadata": {}
        },
        {
          "output_type": "stream",
          "name": "stdout",
          "text": [
            "\n",
            "\n",
            "Track ID: 3BIBnyt40zWjPCNqRyGwPp\n",
            "Track Name: This Side of Paradise - slowed\n",
            "Artist Name: Coyote Theory\n",
            "Genres: pov: indie\n",
            "Album Cover Image: https://i.scdn.co/image/ab67616d0000b273c2d3005800e3a80004c10c9b\n"
          ]
        },
        {
          "output_type": "display_data",
          "data": {
            "text/html": [
              "<img src=\"https://i.scdn.co/image/ab67616d0000b273c2d3005800e3a80004c10c9b\" width=\"150\" height=\"150\"/>"
            ],
            "text/plain": [
              "<IPython.core.display.Image object>"
            ]
          },
          "metadata": {}
        },
        {
          "output_type": "stream",
          "name": "stdout",
          "text": [
            "\n",
            "\n",
            "Track ID: 3xtiXNDbSKxy20I7D6vFUg\n",
            "Track Name: Soldier, Poet, King\n",
            "Artist Name: The Oh Hellos\n",
            "Genres: folk-pop, pov: indie, san marcos tx indie, stomp and holler\n",
            "Album Cover Image: https://i.scdn.co/image/ab67616d0000b27339521e60d8d11783d9f5e3b1\n"
          ]
        },
        {
          "output_type": "display_data",
          "data": {
            "text/html": [
              "<img src=\"https://i.scdn.co/image/ab67616d0000b27339521e60d8d11783d9f5e3b1\" width=\"150\" height=\"150\"/>"
            ],
            "text/plain": [
              "<IPython.core.display.Image object>"
            ]
          },
          "metadata": {}
        },
        {
          "output_type": "stream",
          "name": "stdout",
          "text": [
            "\n",
            "\n",
            "Track ID: 3IznIgmXtrUaoPWpQTy5jB\n",
            "Track Name: Not Allowed\n",
            "Artist Name: TV Girl\n",
            "Genres: pov: indie\n",
            "Album Cover Image: https://i.scdn.co/image/ab67616d0000b27332f5fec7a879ed6ef28f0dfd\n"
          ]
        },
        {
          "output_type": "display_data",
          "data": {
            "text/html": [
              "<img src=\"https://i.scdn.co/image/ab67616d0000b27332f5fec7a879ed6ef28f0dfd\" width=\"150\" height=\"150\"/>"
            ],
            "text/plain": [
              "<IPython.core.display.Image object>"
            ]
          },
          "metadata": {}
        },
        {
          "output_type": "stream",
          "name": "stdout",
          "text": [
            "\n",
            "\n",
            "Track ID: 22FniXvTKV9IC6IhxCpYve\n",
            "Track Name: Hello Kitty\n",
            "Artist Name: Jazmin Bean\n",
            "Genres: pov: indie\n",
            "Album Cover Image: https://i.scdn.co/image/ab67616d0000b273eea4d8ef4ad2b9b0a7f00d37\n"
          ]
        },
        {
          "output_type": "display_data",
          "data": {
            "text/html": [
              "<img src=\"https://i.scdn.co/image/ab67616d0000b273eea4d8ef4ad2b9b0a7f00d37\" width=\"150\" height=\"150\"/>"
            ],
            "text/plain": [
              "<IPython.core.display.Image object>"
            ]
          },
          "metadata": {}
        },
        {
          "output_type": "stream",
          "name": "stdout",
          "text": [
            "\n",
            "\n",
            "Track ID: 474uVhyGgK5MtY9gMcDgGl\n",
            "Track Name: It's Called: Freefall\n",
            "Artist Name: Rainbow Kitten Surprise\n",
            "Genres: pov: indie\n",
            "Album Cover Image: https://i.scdn.co/image/ab67616d0000b2739529217e48fc8bab89c8a1f9\n"
          ]
        },
        {
          "output_type": "display_data",
          "data": {
            "text/html": [
              "<img src=\"https://i.scdn.co/image/ab67616d0000b2739529217e48fc8bab89c8a1f9\" width=\"150\" height=\"150\"/>"
            ],
            "text/plain": [
              "<IPython.core.display.Image object>"
            ]
          },
          "metadata": {}
        },
        {
          "output_type": "stream",
          "name": "stdout",
          "text": [
            "\n",
            "\n"
          ]
        }
      ]
    },
    {
      "cell_type": "code",
      "source": [
        "!pip install pandas scikit-learn matplotlib surprise\n",
        "\n",
        "import pandas as pd\n",
        "from sklearn.preprocessing import MultiLabelBinarizer\n",
        "from sklearn.metrics.pairwise import cosine_similarity\n",
        "from sklearn.model_selection import train_test_split, GridSearchCV\n",
        "from sklearn.metrics import precision_score, recall_score, f1_score\n",
        "from sklearn.neighbors import NearestNeighbors\n",
        "from surprise import SVD, Dataset, Reader, accuracy\n",
        "from surprise.model_selection import train_test_split as surprise_train_test_split\n",
        "from surprise.model_selection import cross_validate, GridSearchCV\n",
        "import matplotlib.pyplot as plt\n",
        "\n",
        "df = pd.read_csv('spotify_songs_of_different_genres.csv')\n",
        "\n",
        "df['genres'] = df['genres'].apply(lambda x: x.split(', '))\n",
        "\n",
        "mlb = MultiLabelBinarizer()\n",
        "genre_matrix = mlb.fit_transform(df['genres'])\n",
        "\n",
        "genre_df = pd.DataFrame(genre_matrix, columns=mlb.classes_, index=df['track_id'])\n",
        "\n",
        "train_data, test_data = train_test_split(df, test_size=0.2, random_state=42)\n",
        "\n",
        "cosine_sim = cosine_similarity(genre_df, genre_df)\n",
        "cosine_sim_df = pd.DataFrame(cosine_sim, index=genre_df.index, columns=genre_df.index)\n",
        "\n",
        "# Defining the Content-Based Filtering recommendation function\n",
        "def recommend_songs_content_based(track_id, cosine_sim_df, df, num_recommendations=10):\n",
        "    idx = df.index[df['track_id'] == track_id].tolist()[0]\n",
        "    sim_scores = list(enumerate(cosine_sim_df.iloc[idx]))\n",
        "    sim_scores = sorted(sim_scores, key=lambda x: x[1], reverse=True)\n",
        "    sim_scores = sim_scores[1:num_recommendations+1]\n",
        "    song_indices = [i[0] for i in sim_scores]\n",
        "    recommended_songs = df.iloc[song_indices][['track_id', 'track_name', 'artist_name', 'genres', 'album_cover_image']]\n",
        "    return recommended_songs\n",
        "\n",
        "# Collaborative Filtering using SVD\n",
        "reader = Reader(rating_scale=(df['play_counts'].min(), df['play_counts'].max()))\n",
        "data = Dataset.load_from_df(df[['track_id', 'artist_uri', 'play_counts']], reader)\n",
        "param_grid = {'n_factors': [50, 100, 150], 'lr_all': [0.002, 0.005, 0.01], 'reg_all': [0.02, 0.05, 0.1]}\n",
        "gs = GridSearchCV(SVD, param_grid, measures=['rmse', 'mae'], cv=3)\n",
        "gs.fit(data)\n",
        "\n",
        "svd = SVD()\n",
        "svd.fit(trainset)\n",
        "svd_predictions = svd.test(testset)\n",
        "best_svd = gs.best_estimator['rmse']\n",
        "\n",
        "# Train and test split\n",
        "trainset, testset = surprise_train_test_split(data, test_size=0.2, random_state=42)\n",
        "\n",
        "# Train the best SVD model\n",
        "best_svd.fit(trainset)\n",
        "svd_predictions = best_svd.test(testset)\n",
        "\n",
        "# K-Nearest Neighbors (KNN)\n",
        "knn = NearestNeighbors(metric='cosine', algorithm='brute')\n",
        "knn.fit(genre_df)\n",
        "knn_distances, knn_indices = knn.kneighbors(genre_df, n_neighbors=11)\n",
        "\n",
        "# Define the KNN recommendation function\n",
        "def recommend_songs_knn(track_id, knn_indices, df, num_recommendations=10):\n",
        "    idx = df.index[df['track_id'] == track_id].tolist()[0]\n",
        "    song_indices = knn_indices[idx][1:num_recommendations+1]\n",
        "    recommended_songs = df.iloc[song_indices][['track_id', 'track_name', 'artist_name', 'genres', 'album_cover_image']]\n",
        "    return recommended_songs\n",
        "\n",
        "# Evaluate the models\n",
        "def evaluate_model(model_name, recommend_func, test_data, knn_indices=None):\n",
        "    y_true = []\n",
        "    y_pred = []\n",
        "\n",
        "    for idx, row in test_data.iterrows():\n",
        "        track_id = row['track_id']\n",
        "        actual_artist = row['artist_name']\n",
        "\n",
        "        if model_name == 'Content-Based':\n",
        "            recommended_songs = recommend_func(track_id, cosine_sim_df, df)\n",
        "        elif model_name == 'KNN':\n",
        "            recommended_songs = recommend_func(track_id, knn_indices, df)\n",
        "        elif model_name == 'SVD':\n",
        "            continue  # We'll handle SVD evaluation separately\n",
        "\n",
        "        recommended_artists = recommended_songs['artist_name'].tolist()\n",
        "\n",
        "        y_true.append(1 if actual_artist in recommended_artists else 0)\n",
        "        y_pred.append(1)\n",
        "\n",
        "    precision = precision_score(y_true, y_pred)\n",
        "    recall = recall_score(y_true, y_pred)\n",
        "    f1 = f1_score(y_true, y_pred)\n",
        "\n",
        "    return precision, recall, f1\n",
        "\n",
        "# Evaluate the Content-Based model\n",
        "precision_content, recall_content, f1_content = evaluate_model('Content-Based', recommend_songs_content_based, test_data)\n",
        "\n",
        "# Evaluate the KNN model\n",
        "precision_knn, recall_knn, f1_knn = evaluate_model('KNN', recommend_songs_knn, test_data, knn_indices)\n",
        "\n",
        "# Evaluate the SVD model\n",
        "svd_true = [int(pred.r_ui > 0) for pred in svd_predictions]  # Binarize actual ratings\n",
        "svd_pred = [int(pred.est > 0) for pred in svd_predictions]   # Binarize predicted ratings\n",
        "\n",
        "precision_svd = precision_score(svd_true, svd_pred, average='macro')\n",
        "recall_svd = recall_score(svd_true, svd_pred, average='macro')\n",
        "f1_svd = f1_score(svd_true, svd_pred, average='macro')\n",
        "\n",
        "threshold = sum(svd_true) / len(svd_true)\n",
        "svd_pred_binary = [1 if pred >= threshold else 0 for pred in svd_pred]\n",
        "\n",
        "precision_svd = precision_score(svd_true, svd_pred_binary, average='macro')\n",
        "recall_svd = recall_score(svd_true, svd_pred_binary, average='macro')\n",
        "f1_svd = f1_score(svd_true, svd_pred_binary, average='macro')\n",
        "\n",
        "models = ['Content-Based', 'KNN', 'SVD']\n",
        "precisions = [precision_content, precision_knn, precision_svd]\n",
        "recalls = [recall_content, recall_knn, recall_svd]\n",
        "f1_scores = [f1_content, f1_knn, f1_svd]\n",
        "\n",
        "x = range(len(models))\n",
        "\n",
        "plt.figure(figsize=(12, 6))\n",
        "plt.bar(x, precisions, width=0.2, label='Precision', align='center')\n",
        "plt.bar(x, recalls, width=0.2, label='Recall', align='edge')\n",
        "plt.bar(x, f1_scores, width=0.2, label='F1-Score', align='edge', alpha=0.7)\n",
        "plt.xlabel('Models')\n",
        "plt.ylabel('Scores')\n",
        "plt.title('Model Comparison')\n",
        "plt.xticks(x, models)\n",
        "plt.legend()\n",
        "plt.show()\n",
        "\n"
      ],
      "metadata": {
        "colab": {
          "base_uri": "https://localhost:8080/",
          "height": 1000
        },
        "id": "5GG9d1KFvGiC",
        "outputId": "77e7e446-8261-4164-8020-fdf2dc0ebaff"
      },
      "execution_count": 5,
      "outputs": [
        {
          "output_type": "stream",
          "name": "stdout",
          "text": [
            "Requirement already satisfied: pandas in /usr/local/lib/python3.10/dist-packages (2.2.2)\n",
            "Requirement already satisfied: scikit-learn in /usr/local/lib/python3.10/dist-packages (1.5.2)\n",
            "Requirement already satisfied: matplotlib in /usr/local/lib/python3.10/dist-packages (3.8.0)\n",
            "Collecting surprise\n",
            "  Downloading surprise-0.1-py2.py3-none-any.whl.metadata (327 bytes)\n",
            "Requirement already satisfied: numpy>=1.22.4 in /usr/local/lib/python3.10/dist-packages (from pandas) (1.26.4)\n",
            "Requirement already satisfied: python-dateutil>=2.8.2 in /usr/local/lib/python3.10/dist-packages (from pandas) (2.8.2)\n",
            "Requirement already satisfied: pytz>=2020.1 in /usr/local/lib/python3.10/dist-packages (from pandas) (2024.2)\n",
            "Requirement already satisfied: tzdata>=2022.7 in /usr/local/lib/python3.10/dist-packages (from pandas) (2024.2)\n",
            "Requirement already satisfied: scipy>=1.6.0 in /usr/local/lib/python3.10/dist-packages (from scikit-learn) (1.13.1)\n",
            "Requirement already satisfied: joblib>=1.2.0 in /usr/local/lib/python3.10/dist-packages (from scikit-learn) (1.4.2)\n",
            "Requirement already satisfied: threadpoolctl>=3.1.0 in /usr/local/lib/python3.10/dist-packages (from scikit-learn) (3.5.0)\n",
            "Requirement already satisfied: contourpy>=1.0.1 in /usr/local/lib/python3.10/dist-packages (from matplotlib) (1.3.0)\n",
            "Requirement already satisfied: cycler>=0.10 in /usr/local/lib/python3.10/dist-packages (from matplotlib) (0.12.1)\n",
            "Requirement already satisfied: fonttools>=4.22.0 in /usr/local/lib/python3.10/dist-packages (from matplotlib) (4.54.1)\n",
            "Requirement already satisfied: kiwisolver>=1.0.1 in /usr/local/lib/python3.10/dist-packages (from matplotlib) (1.4.7)\n",
            "Requirement already satisfied: packaging>=20.0 in /usr/local/lib/python3.10/dist-packages (from matplotlib) (24.1)\n",
            "Requirement already satisfied: pillow>=6.2.0 in /usr/local/lib/python3.10/dist-packages (from matplotlib) (10.4.0)\n",
            "Requirement already satisfied: pyparsing>=2.3.1 in /usr/local/lib/python3.10/dist-packages (from matplotlib) (3.2.0)\n",
            "Collecting scikit-surprise (from surprise)\n",
            "  Downloading scikit_surprise-1.1.4.tar.gz (154 kB)\n",
            "\u001b[2K     \u001b[90m━━━━━━━━━━━━━━━━━━━━━━━━━━━━━━━━━━━━━━━━\u001b[0m \u001b[32m154.4/154.4 kB\u001b[0m \u001b[31m3.8 MB/s\u001b[0m eta \u001b[36m0:00:00\u001b[0m\n",
            "\u001b[?25h  Installing build dependencies ... \u001b[?25l\u001b[?25hdone\n",
            "  Getting requirements to build wheel ... \u001b[?25l\u001b[?25hdone\n",
            "  Preparing metadata (pyproject.toml) ... \u001b[?25l\u001b[?25hdone\n",
            "Requirement already satisfied: six>=1.5 in /usr/local/lib/python3.10/dist-packages (from python-dateutil>=2.8.2->pandas) (1.16.0)\n",
            "Downloading surprise-0.1-py2.py3-none-any.whl (1.8 kB)\n",
            "Building wheels for collected packages: scikit-surprise\n",
            "  Building wheel for scikit-surprise (pyproject.toml) ... \u001b[?25l\u001b[?25hdone\n",
            "  Created wheel for scikit-surprise: filename=scikit_surprise-1.1.4-cp310-cp310-linux_x86_64.whl size=2357264 sha256=1d5e54e636484c8ac58c65464ca6b33ef6a3d06892798239141d976e5316a513\n",
            "  Stored in directory: /root/.cache/pip/wheels/4b/3f/df/6acbf0a40397d9bf3ff97f582cc22fb9ce66adde75bc71fd54\n",
            "Successfully built scikit-surprise\n",
            "Installing collected packages: scikit-surprise, surprise\n",
            "Successfully installed scikit-surprise-1.1.4 surprise-0.1\n"
          ]
        },
        {
          "output_type": "error",
          "ename": "KeyError",
          "evalue": "'play_counts'",
          "traceback": [
            "\u001b[0;31m---------------------------------------------------------------------------\u001b[0m",
            "\u001b[0;31mKeyError\u001b[0m                                  Traceback (most recent call last)",
            "\u001b[0;32m/usr/local/lib/python3.10/dist-packages/pandas/core/indexes/base.py\u001b[0m in \u001b[0;36mget_loc\u001b[0;34m(self, key)\u001b[0m\n\u001b[1;32m   3804\u001b[0m         \u001b[0;32mtry\u001b[0m\u001b[0;34m:\u001b[0m\u001b[0;34m\u001b[0m\u001b[0;34m\u001b[0m\u001b[0m\n\u001b[0;32m-> 3805\u001b[0;31m             \u001b[0;32mreturn\u001b[0m \u001b[0mself\u001b[0m\u001b[0;34m.\u001b[0m\u001b[0m_engine\u001b[0m\u001b[0;34m.\u001b[0m\u001b[0mget_loc\u001b[0m\u001b[0;34m(\u001b[0m\u001b[0mcasted_key\u001b[0m\u001b[0;34m)\u001b[0m\u001b[0;34m\u001b[0m\u001b[0;34m\u001b[0m\u001b[0m\n\u001b[0m\u001b[1;32m   3806\u001b[0m         \u001b[0;32mexcept\u001b[0m \u001b[0mKeyError\u001b[0m \u001b[0;32mas\u001b[0m \u001b[0merr\u001b[0m\u001b[0;34m:\u001b[0m\u001b[0;34m\u001b[0m\u001b[0;34m\u001b[0m\u001b[0m\n",
            "\u001b[0;32mindex.pyx\u001b[0m in \u001b[0;36mpandas._libs.index.IndexEngine.get_loc\u001b[0;34m()\u001b[0m\n",
            "\u001b[0;32mindex.pyx\u001b[0m in \u001b[0;36mpandas._libs.index.IndexEngine.get_loc\u001b[0;34m()\u001b[0m\n",
            "\u001b[0;32mpandas/_libs/hashtable_class_helper.pxi\u001b[0m in \u001b[0;36mpandas._libs.hashtable.PyObjectHashTable.get_item\u001b[0;34m()\u001b[0m\n",
            "\u001b[0;32mpandas/_libs/hashtable_class_helper.pxi\u001b[0m in \u001b[0;36mpandas._libs.hashtable.PyObjectHashTable.get_item\u001b[0;34m()\u001b[0m\n",
            "\u001b[0;31mKeyError\u001b[0m: 'play_counts'",
            "\nThe above exception was the direct cause of the following exception:\n",
            "\u001b[0;31mKeyError\u001b[0m                                  Traceback (most recent call last)",
            "\u001b[0;32m<ipython-input-5-5dcc7c597e97>\u001b[0m in \u001b[0;36m<cell line: 39>\u001b[0;34m()\u001b[0m\n\u001b[1;32m     37\u001b[0m \u001b[0;34m\u001b[0m\u001b[0m\n\u001b[1;32m     38\u001b[0m \u001b[0;31m# Collaborative Filtering using SVD\u001b[0m\u001b[0;34m\u001b[0m\u001b[0;34m\u001b[0m\u001b[0m\n\u001b[0;32m---> 39\u001b[0;31m \u001b[0mreader\u001b[0m \u001b[0;34m=\u001b[0m \u001b[0mReader\u001b[0m\u001b[0;34m(\u001b[0m\u001b[0mrating_scale\u001b[0m\u001b[0;34m=\u001b[0m\u001b[0;34m(\u001b[0m\u001b[0mdf\u001b[0m\u001b[0;34m[\u001b[0m\u001b[0;34m'play_counts'\u001b[0m\u001b[0;34m]\u001b[0m\u001b[0;34m.\u001b[0m\u001b[0mmin\u001b[0m\u001b[0;34m(\u001b[0m\u001b[0;34m)\u001b[0m\u001b[0;34m,\u001b[0m \u001b[0mdf\u001b[0m\u001b[0;34m[\u001b[0m\u001b[0;34m'play_counts'\u001b[0m\u001b[0;34m]\u001b[0m\u001b[0;34m.\u001b[0m\u001b[0mmax\u001b[0m\u001b[0;34m(\u001b[0m\u001b[0;34m)\u001b[0m\u001b[0;34m)\u001b[0m\u001b[0;34m)\u001b[0m\u001b[0;34m\u001b[0m\u001b[0;34m\u001b[0m\u001b[0m\n\u001b[0m\u001b[1;32m     40\u001b[0m \u001b[0mdata\u001b[0m \u001b[0;34m=\u001b[0m \u001b[0mDataset\u001b[0m\u001b[0;34m.\u001b[0m\u001b[0mload_from_df\u001b[0m\u001b[0;34m(\u001b[0m\u001b[0mdf\u001b[0m\u001b[0;34m[\u001b[0m\u001b[0;34m[\u001b[0m\u001b[0;34m'track_id'\u001b[0m\u001b[0;34m,\u001b[0m \u001b[0;34m'artist_uri'\u001b[0m\u001b[0;34m,\u001b[0m \u001b[0;34m'play_counts'\u001b[0m\u001b[0;34m]\u001b[0m\u001b[0;34m]\u001b[0m\u001b[0;34m,\u001b[0m \u001b[0mreader\u001b[0m\u001b[0;34m)\u001b[0m\u001b[0;34m\u001b[0m\u001b[0;34m\u001b[0m\u001b[0m\n\u001b[1;32m     41\u001b[0m \u001b[0mparam_grid\u001b[0m \u001b[0;34m=\u001b[0m \u001b[0;34m{\u001b[0m\u001b[0;34m'n_factors'\u001b[0m\u001b[0;34m:\u001b[0m \u001b[0;34m[\u001b[0m\u001b[0;36m50\u001b[0m\u001b[0;34m,\u001b[0m \u001b[0;36m100\u001b[0m\u001b[0;34m,\u001b[0m \u001b[0;36m150\u001b[0m\u001b[0;34m]\u001b[0m\u001b[0;34m,\u001b[0m \u001b[0;34m'lr_all'\u001b[0m\u001b[0;34m:\u001b[0m \u001b[0;34m[\u001b[0m\u001b[0;36m0.002\u001b[0m\u001b[0;34m,\u001b[0m \u001b[0;36m0.005\u001b[0m\u001b[0;34m,\u001b[0m \u001b[0;36m0.01\u001b[0m\u001b[0;34m]\u001b[0m\u001b[0;34m,\u001b[0m \u001b[0;34m'reg_all'\u001b[0m\u001b[0;34m:\u001b[0m \u001b[0;34m[\u001b[0m\u001b[0;36m0.02\u001b[0m\u001b[0;34m,\u001b[0m \u001b[0;36m0.05\u001b[0m\u001b[0;34m,\u001b[0m \u001b[0;36m0.1\u001b[0m\u001b[0;34m]\u001b[0m\u001b[0;34m}\u001b[0m\u001b[0;34m\u001b[0m\u001b[0;34m\u001b[0m\u001b[0m\n",
            "\u001b[0;32m/usr/local/lib/python3.10/dist-packages/pandas/core/frame.py\u001b[0m in \u001b[0;36m__getitem__\u001b[0;34m(self, key)\u001b[0m\n\u001b[1;32m   4100\u001b[0m             \u001b[0;32mif\u001b[0m \u001b[0mself\u001b[0m\u001b[0;34m.\u001b[0m\u001b[0mcolumns\u001b[0m\u001b[0;34m.\u001b[0m\u001b[0mnlevels\u001b[0m \u001b[0;34m>\u001b[0m \u001b[0;36m1\u001b[0m\u001b[0;34m:\u001b[0m\u001b[0;34m\u001b[0m\u001b[0;34m\u001b[0m\u001b[0m\n\u001b[1;32m   4101\u001b[0m                 \u001b[0;32mreturn\u001b[0m \u001b[0mself\u001b[0m\u001b[0;34m.\u001b[0m\u001b[0m_getitem_multilevel\u001b[0m\u001b[0;34m(\u001b[0m\u001b[0mkey\u001b[0m\u001b[0;34m)\u001b[0m\u001b[0;34m\u001b[0m\u001b[0;34m\u001b[0m\u001b[0m\n\u001b[0;32m-> 4102\u001b[0;31m             \u001b[0mindexer\u001b[0m \u001b[0;34m=\u001b[0m \u001b[0mself\u001b[0m\u001b[0;34m.\u001b[0m\u001b[0mcolumns\u001b[0m\u001b[0;34m.\u001b[0m\u001b[0mget_loc\u001b[0m\u001b[0;34m(\u001b[0m\u001b[0mkey\u001b[0m\u001b[0;34m)\u001b[0m\u001b[0;34m\u001b[0m\u001b[0;34m\u001b[0m\u001b[0m\n\u001b[0m\u001b[1;32m   4103\u001b[0m             \u001b[0;32mif\u001b[0m \u001b[0mis_integer\u001b[0m\u001b[0;34m(\u001b[0m\u001b[0mindexer\u001b[0m\u001b[0;34m)\u001b[0m\u001b[0;34m:\u001b[0m\u001b[0;34m\u001b[0m\u001b[0;34m\u001b[0m\u001b[0m\n\u001b[1;32m   4104\u001b[0m                 \u001b[0mindexer\u001b[0m \u001b[0;34m=\u001b[0m \u001b[0;34m[\u001b[0m\u001b[0mindexer\u001b[0m\u001b[0;34m]\u001b[0m\u001b[0;34m\u001b[0m\u001b[0;34m\u001b[0m\u001b[0m\n",
            "\u001b[0;32m/usr/local/lib/python3.10/dist-packages/pandas/core/indexes/base.py\u001b[0m in \u001b[0;36mget_loc\u001b[0;34m(self, key)\u001b[0m\n\u001b[1;32m   3810\u001b[0m             ):\n\u001b[1;32m   3811\u001b[0m                 \u001b[0;32mraise\u001b[0m \u001b[0mInvalidIndexError\u001b[0m\u001b[0;34m(\u001b[0m\u001b[0mkey\u001b[0m\u001b[0;34m)\u001b[0m\u001b[0;34m\u001b[0m\u001b[0;34m\u001b[0m\u001b[0m\n\u001b[0;32m-> 3812\u001b[0;31m             \u001b[0;32mraise\u001b[0m \u001b[0mKeyError\u001b[0m\u001b[0;34m(\u001b[0m\u001b[0mkey\u001b[0m\u001b[0;34m)\u001b[0m \u001b[0;32mfrom\u001b[0m \u001b[0merr\u001b[0m\u001b[0;34m\u001b[0m\u001b[0;34m\u001b[0m\u001b[0m\n\u001b[0m\u001b[1;32m   3813\u001b[0m         \u001b[0;32mexcept\u001b[0m \u001b[0mTypeError\u001b[0m\u001b[0;34m:\u001b[0m\u001b[0;34m\u001b[0m\u001b[0;34m\u001b[0m\u001b[0m\n\u001b[1;32m   3814\u001b[0m             \u001b[0;31m# If we have a listlike key, _check_indexing_error will raise\u001b[0m\u001b[0;34m\u001b[0m\u001b[0;34m\u001b[0m\u001b[0m\n",
            "\u001b[0;31mKeyError\u001b[0m: 'play_counts'"
          ]
        }
      ]
    }
  ]
}